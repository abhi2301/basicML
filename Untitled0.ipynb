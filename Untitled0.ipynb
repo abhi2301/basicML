{
  "nbformat": 4,
  "nbformat_minor": 0,
  "metadata": {
    "colab": {
      "name": "Untitled0.ipynb",
      "provenance": [],
      "authorship_tag": "ABX9TyPOdskBMtUbQ6U6hkACHst+",
      "include_colab_link": true
    },
    "kernelspec": {
      "name": "python3",
      "display_name": "Python 3"
    },
    "language_info": {
      "name": "python"
    }
  },
  "cells": [
    {
      "cell_type": "markdown",
      "metadata": {
        "id": "view-in-github",
        "colab_type": "text"
      },
      "source": [
        "<a href=\"https://colab.research.google.com/github/abhi2301/basicML/blob/main/Untitled0.ipynb\" target=\"_parent\"><img src=\"https://colab.research.google.com/assets/colab-badge.svg\" alt=\"Open In Colab\"/></a>"
      ]
    },
    {
      "cell_type": "code",
      "metadata": {
        "id": "L9aKCaM8RvOD"
      },
      "source": [
        "Program to print a given number in a positive or negative or zero"
      ],
      "execution_count": null,
      "outputs": []
    },
    {
      "cell_type": "code",
      "metadata": {
        "colab": {
          "base_uri": "https://localhost:8080/"
        },
        "id": "mAoPd5mxSrEF",
        "outputId": "e91a855a-9de5-4b9c-87b0-6d1acb6764cd"
      },
      "source": [
        "a=25\n",
        "if(a>0):\n",
        "  print('POSITIVE')\n",
        "elif(a<0):\n",
        "  print('NEGATIVE')\n",
        "else:\n",
        "  print('ZERO')"
      ],
      "execution_count": 2,
      "outputs": [
        {
          "output_type": "stream",
          "text": [
            "POSITIVE\n"
          ],
          "name": "stdout"
        }
      ]
    },
    {
      "cell_type": "markdown",
      "metadata": {
        "id": "LhQLyGOhT5SU"
      },
      "source": [
        "Program to print factorial of a number"
      ]
    },
    {
      "cell_type": "code",
      "metadata": {
        "colab": {
          "base_uri": "https://localhost:8080/"
        },
        "id": "2UXzea0eUeLi",
        "outputId": "9a46715a-a374-4c36-c5f0-1f2b3e2d82e5"
      },
      "source": [
        "a=int(input ())\n",
        "factorial = 1\n",
        "if a<0:\n",
        "   print(\"Factorial does not exist for negative numbers\")\n",
        "elif a==0:\n",
        "   print(\"The factorial of 0 is 1\")\n",
        "else:\n",
        "   for i in range(1,a + 1):\n",
        "       factorial = factorial*i\n",
        "   print(\"The factorial of\",a,\"is\",factorial)"
      ],
      "execution_count": 5,
      "outputs": [
        {
          "output_type": "stream",
          "text": [
            "2\n",
            "The factorial of 2 is 2\n"
          ],
          "name": "stdout"
        }
      ]
    },
    {
      "cell_type": "markdown",
      "metadata": {
        "id": "ZxkpoK5qVeLo"
      },
      "source": [
        "Program to perform arithmetic operations in python"
      ]
    },
    {
      "cell_type": "code",
      "metadata": {
        "colab": {
          "base_uri": "https://localhost:8080/"
        },
        "id": "CwJFeFxNVyHZ",
        "outputId": "e4fe0400-c179-4a5a-92f2-0211aa75a627"
      },
      "source": [
        "a=25\n",
        "b=1\n",
        "c=23\n",
        "k=a+b-c\n",
        "print(k)"
      ],
      "execution_count": 9,
      "outputs": [
        {
          "output_type": "stream",
          "text": [
            "3\n"
          ],
          "name": "stdout"
        }
      ]
    },
    {
      "cell_type": "markdown",
      "metadata": {
        "id": "bXECy_R3R80C"
      },
      "source": [
        ""
      ]
    },
    {
      "cell_type": "code",
      "metadata": {
        "id": "DyPQMba9SV-1"
      },
      "source": [
        ""
      ],
      "execution_count": null,
      "outputs": []
    }
  ]
}